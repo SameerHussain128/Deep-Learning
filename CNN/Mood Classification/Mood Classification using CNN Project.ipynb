{
 "cells": [
  {
   "cell_type": "markdown",
   "id": "3e44b59a",
   "metadata": {},
   "source": [
    "# Mood Classification using CNN (HAPPY | SAD)"
   ]
  },
  {
   "cell_type": "markdown",
   "id": "25e7e807",
   "metadata": {},
   "source": [
    "## Step 1: Import necessary libraries"
   ]
  },
  {
   "cell_type": "code",
   "execution_count": 1,
   "id": "249e773d",
   "metadata": {},
   "outputs": [
    {
     "name": "stdout",
     "output_type": "stream",
     "text": [
      "WARNING:tensorflow:From C:\\Users\\SAMEER\\AppData\\Roaming\\Python\\Python311\\site-packages\\keras\\src\\losses.py:2976: The name tf.losses.sparse_softmax_cross_entropy is deprecated. Please use tf.compat.v1.losses.sparse_softmax_cross_entropy instead.\n",
      "\n"
     ]
    }
   ],
   "source": [
    "import os\n",
    "import numpy as np\n",
    "import matplotlib.pyplot as plt\n",
    "from tensorflow.keras.preprocessing.image import ImageDataGenerator, img_to_array, load_img\n",
    "from tensorflow.keras.models import Sequential\n",
    "from tensorflow.keras.layers import Conv2D, MaxPooling2D, Flatten, Dense, Dropout\n",
    "from tensorflow.keras.optimizers import Adam\n",
    "from tensorflow.keras.callbacks import EarlyStopping, ModelCheckpoint"
   ]
  },
  {
   "cell_type": "markdown",
   "id": "7c9619d7",
   "metadata": {},
   "source": [
    "## Step 2: Prepare the data\n",
    "We will use ImageDataGenerator to load and augment the images"
   ]
  },
  {
   "cell_type": "code",
   "execution_count": 2,
   "id": "29d74d95",
   "metadata": {},
   "outputs": [
    {
     "name": "stdout",
     "output_type": "stream",
     "text": [
      "Found 12 images belonging to 2 classes.\n",
      "Found 5 images belonging to 2 classes.\n"
     ]
    }
   ],
   "source": [
    "# Directories for the datasets\n",
    "train_dir = r'C:\\Users\\SAMEER\\Projects\\Deep Learning\\CNN\\Mood Classification using CNN\\training'\n",
    "validation_dir = r'C:\\Users\\SAMEER\\Projects\\Deep Learning\\CNN\\Mood Classification using CNN\\validation'\n",
    "test_dir = r'C:\\Users\\SAMEER\\Projects\\Deep Learning\\CNN\\Mood Classification using CNN\\testing'\n",
    "\n",
    "# Image data generators with data augmentation for training and validation sets\n",
    "train_datagen = ImageDataGenerator(\n",
    "    rescale=1./255,\n",
    "    rotation_range=20,\n",
    "    width_shift_range=0.2,\n",
    "    height_shift_range=0.2,\n",
    "    shear_range=0.2,\n",
    "    zoom_range=0.2,\n",
    "    horizontal_flip=True,\n",
    "    fill_mode='nearest'\n",
    ")\n",
    "\n",
    "validation_datagen = ImageDataGenerator(rescale=1./255)\n",
    "test_datagen = ImageDataGenerator(rescale=1./255)\n",
    "\n",
    "# Load and iterate training dataset\n",
    "train_generator = train_datagen.flow_from_directory(\n",
    "    train_dir,\n",
    "    target_size=(200, 200),\n",
    "    batch_size=3,\n",
    "    class_mode='binary'\n",
    ")\n",
    "\n",
    "# Load and iterate validation dataset\n",
    "validation_generator = validation_datagen.flow_from_directory(\n",
    "    validation_dir,\n",
    "    target_size=(200, 200),\n",
    "    batch_size=3,\n",
    "    class_mode='binary'\n",
    ")"
   ]
  },
  {
   "cell_type": "markdown",
   "id": "fcc38771",
   "metadata": {},
   "source": [
    "## Step 3: Build the model\n",
    "We will build a simple CNN model."
   ]
  },
  {
   "cell_type": "code",
   "execution_count": 3,
   "id": "127d9910",
   "metadata": {},
   "outputs": [
    {
     "name": "stdout",
     "output_type": "stream",
     "text": [
      "WARNING:tensorflow:From C:\\Users\\SAMEER\\AppData\\Roaming\\Python\\Python311\\site-packages\\keras\\src\\backend.py:873: The name tf.get_default_graph is deprecated. Please use tf.compat.v1.get_default_graph instead.\n",
      "\n",
      "WARNING:tensorflow:From C:\\Users\\SAMEER\\AppData\\Roaming\\Python\\Python311\\site-packages\\keras\\src\\layers\\pooling\\max_pooling2d.py:161: The name tf.nn.max_pool is deprecated. Please use tf.nn.max_pool2d instead.\n",
      "\n"
     ]
    }
   ],
   "source": [
    "model = Sequential([\n",
    "    Conv2D(16, (3, 3), activation='relu', input_shape=(200, 200, 3)),\n",
    "    MaxPooling2D(2, 2),\n",
    "    Conv2D(32, (3, 3), activation='relu'),\n",
    "    MaxPooling2D(2, 2),\n",
    "    Conv2D(64, (3, 3), activation='relu'),\n",
    "    MaxPooling2D(2, 2),\n",
    "    Flatten(),\n",
    "    Dense(512, activation='relu'),\n",
    "    Dropout(0.5),\n",
    "    Dense(1, activation='sigmoid')\n",
    "])\n",
    "\n",
    "# COMPILE\n",
    "model.compile(\n",
    "    loss='binary_crossentropy',\n",
    "    optimizer=Adam(learning_rate=0.001),\n",
    "    metrics=['accuracy']\n",
    ")"
   ]
  },
  {
   "cell_type": "markdown",
   "id": "c28f1b2f",
   "metadata": {},
   "source": [
    "## Step 4: Train the model\n",
    "We will use EarlyStopping and ModelCheckpoint callbacks to prevent overfitting and save the best model."
   ]
  },
  {
   "cell_type": "code",
   "execution_count": 4,
   "id": "4bef2385",
   "metadata": {},
   "outputs": [
    {
     "name": "stdout",
     "output_type": "stream",
     "text": [
      "Epoch 1/20\n",
      "WARNING:tensorflow:From C:\\Users\\SAMEER\\AppData\\Roaming\\Python\\Python311\\site-packages\\keras\\src\\utils\\tf_utils.py:492: The name tf.ragged.RaggedTensorValue is deprecated. Please use tf.compat.v1.ragged.RaggedTensorValue instead.\n",
      "\n",
      "WARNING:tensorflow:From C:\\Users\\SAMEER\\AppData\\Roaming\\Python\\Python311\\site-packages\\keras\\src\\engine\\base_layer_utils.py:384: The name tf.executing_eagerly_outside_functions is deprecated. Please use tf.compat.v1.executing_eagerly_outside_functions instead.\n",
      "\n",
      "4/4 [==============================] - 3s 373ms/step - loss: 0.6918 - accuracy: 0.7500 - val_loss: 1.1009 - val_accuracy: 0.6667\n",
      "Epoch 2/20\n",
      "4/4 [==============================] - 1s 272ms/step - loss: 1.4746 - accuracy: 0.4167 - val_loss: 0.6498 - val_accuracy: 0.6667\n",
      "Epoch 3/20\n",
      "4/4 [==============================] - 1s 265ms/step - loss: 0.6065 - accuracy: 0.6667 - val_loss: 0.6858 - val_accuracy: 0.6667\n",
      "Epoch 4/20\n",
      "4/4 [==============================] - 1s 235ms/step - loss: 0.6699 - accuracy: 0.5833 - val_loss: 0.6971 - val_accuracy: 0.3333\n",
      "Epoch 5/20\n",
      "4/4 [==============================] - 1s 253ms/step - loss: 0.6912 - accuracy: 0.5833 - val_loss: 0.5576 - val_accuracy: 1.0000\n",
      "Epoch 6/20\n",
      "4/4 [==============================] - 1s 257ms/step - loss: 0.6525 - accuracy: 0.5833 - val_loss: 0.6172 - val_accuracy: 0.6667\n",
      "Epoch 7/20\n",
      "4/4 [==============================] - 1s 230ms/step - loss: 0.6970 - accuracy: 0.5833 - val_loss: 0.6936 - val_accuracy: 0.6667\n",
      "Epoch 8/20\n",
      "4/4 [==============================] - 1s 276ms/step - loss: 0.6665 - accuracy: 0.5833 - val_loss: 0.9404 - val_accuracy: 0.3333\n",
      "Epoch 9/20\n",
      "4/4 [==============================] - 1s 254ms/step - loss: 0.6228 - accuracy: 0.5833 - val_loss: 0.5654 - val_accuracy: 0.6667\n",
      "Epoch 10/20\n",
      "4/4 [==============================] - 1s 261ms/step - loss: 0.6301 - accuracy: 0.5833 - val_loss: 0.7058 - val_accuracy: 0.6667\n",
      "Epoch 11/20\n",
      "4/4 [==============================] - 1s 277ms/step - loss: 0.5786 - accuracy: 0.5833 - val_loss: 0.7757 - val_accuracy: 0.3333\n",
      "Epoch 12/20\n",
      "4/4 [==============================] - 1s 255ms/step - loss: 0.5589 - accuracy: 0.5833 - val_loss: 0.5134 - val_accuracy: 0.6667\n",
      "Epoch 13/20\n",
      "4/4 [==============================] - 1s 263ms/step - loss: 0.5303 - accuracy: 0.7500 - val_loss: 0.4979 - val_accuracy: 0.6667\n",
      "Epoch 14/20\n",
      "4/4 [==============================] - 1s 264ms/step - loss: 0.4794 - accuracy: 0.5833 - val_loss: 0.5975 - val_accuracy: 0.6667\n",
      "Epoch 15/20\n",
      "4/4 [==============================] - 1s 273ms/step - loss: 0.4984 - accuracy: 0.7500 - val_loss: 0.3935 - val_accuracy: 1.0000\n",
      "Epoch 16/20\n",
      "4/4 [==============================] - 1s 247ms/step - loss: 0.4891 - accuracy: 0.7500 - val_loss: 0.3166 - val_accuracy: 1.0000\n",
      "Epoch 17/20\n",
      "4/4 [==============================] - 1s 258ms/step - loss: 0.4537 - accuracy: 0.8333 - val_loss: 0.3333 - val_accuracy: 0.6667\n",
      "Epoch 18/20\n",
      "4/4 [==============================] - 1s 250ms/step - loss: 0.5593 - accuracy: 0.5833 - val_loss: 0.4019 - val_accuracy: 1.0000\n",
      "Epoch 19/20\n",
      "4/4 [==============================] - 1s 239ms/step - loss: 0.5385 - accuracy: 0.7500 - val_loss: 0.5171 - val_accuracy: 1.0000\n",
      "Epoch 20/20\n",
      "4/4 [==============================] - 1s 271ms/step - loss: 0.4861 - accuracy: 0.7500 - val_loss: 0.5776 - val_accuracy: 1.0000\n"
     ]
    }
   ],
   "source": [
    "# Define callbacks\n",
    "early_stopping = EarlyStopping(monitor='val_loss', patience=10, restore_best_weights=True)\n",
    "#model_checkpoint = ModelCheckpoint('best_model.h5', save_best_only=True, monitor='val_loss')\n",
    "\n",
    "history = model.fit(\n",
    "    train_generator,\n",
    "    steps_per_epoch=train_generator.samples // train_generator.batch_size,\n",
    "    epochs=20,\n",
    "    validation_data=validation_generator,\n",
    "    validation_steps=validation_generator.samples // validation_generator.batch_size,\n",
    "#    callbacks=[early_stopping, model_checkpoint]\n",
    ")\n"
   ]
  },
  {
   "cell_type": "markdown",
   "id": "335d0301",
   "metadata": {},
   "source": [
    "## Step 5: Evaluate the model\n",
    "We will evaluate the model on the test set. "
   ]
  },
  {
   "cell_type": "code",
   "execution_count": 5,
   "id": "8c5fd29d",
   "metadata": {},
   "outputs": [
    {
     "name": "stdout",
     "output_type": "stream",
     "text": [
      "1/1 [==============================] - 0s 117ms/step - loss: 0.3370 - accuracy: 1.0000\n",
      "Test accuracy: 1.00\n"
     ]
    }
   ],
   "source": [
    "# Evaluate on validation data\n",
    "test_loss, test_accuracy = model.evaluate(validation_generator, steps=validation_generator.samples // validation_generator.batch_size)\n",
    "print(f'Test accuracy: {test_accuracy:.2f}')"
   ]
  },
  {
   "cell_type": "code",
   "execution_count": 6,
   "id": "5f543406",
   "metadata": {},
   "outputs": [
    {
     "name": "stderr",
     "output_type": "stream",
     "text": [
      "C:\\Users\\SAMEER\\AppData\\Roaming\\Python\\Python311\\site-packages\\keras\\src\\engine\\training.py:3103: UserWarning: You are saving your model as an HDF5 file via `model.save()`. This file format is considered legacy. We recommend using instead the native Keras format, e.g. `model.save('my_model.keras')`.\n",
      "  saving_api.save_model(\n"
     ]
    }
   ],
   "source": [
    "# Save the entire model to a HDF5 file\n",
    "model.save('mood_model.h5')"
   ]
  },
  {
   "cell_type": "code",
   "execution_count": 7,
   "id": "35d657a9",
   "metadata": {},
   "outputs": [],
   "source": [
    "from tensorflow.keras.models import load_model\n",
    "\n",
    "# Load the model\n",
    "loaded_model = load_model('mood_model.h5')"
   ]
  },
  {
   "cell_type": "markdown",
   "id": "b4fcf282",
   "metadata": {},
   "source": [
    "## Step 6: Make predictions\n",
    "Finally, we will make predictions on new images. "
   ]
  },
  {
   "cell_type": "code",
   "execution_count": 8,
   "id": "0ee0a341",
   "metadata": {},
   "outputs": [
    {
     "name": "stdout",
     "output_type": "stream",
     "text": [
      "1/1 [==============================] - 0s 130ms/step\n",
      "Happy\n"
     ]
    }
   ],
   "source": [
    "# Function to classify an image\n",
    "def classify_image(img_path):\n",
    "    img = load_img(img_path, target_size=(200, 200))  # Use (200, 200) to match the model's input size\n",
    "    img_array = img_to_array(img) / 255.0\n",
    "    img_array = np.expand_dims(img_array, axis=0)\n",
    "    \n",
    "    prediction = loaded_model.predict(img_array)\n",
    "    if prediction[0] < 0.5:\n",
    "        print(\"Happy\")\n",
    "    else:\n",
    "        print(\"Sad\")\n",
    "        \n",
    "# Example usage\n",
    "img_path = r'C:\\Users\\SAMEER\\Projects\\Deep Learning\\CNN\\Mood Classification using CNN\\testing\\happy\\happy2.jpg'\n",
    "classify_image(img_path)"
   ]
  },
  {
   "cell_type": "code",
   "execution_count": 9,
   "id": "89c452bc",
   "metadata": {},
   "outputs": [
    {
     "name": "stdout",
     "output_type": "stream",
     "text": [
      "1/1 [==============================] - 0s 27ms/step\n",
      "Sad\n"
     ]
    }
   ],
   "source": [
    "# Example usage\n",
    "img_path = r'C:\\Users\\SAMEER\\Projects\\Deep Learning\\CNN\\Mood Classification using CNN\\training\\sad\\s1.jpeg'\n",
    "classify_image(img_path)"
   ]
  },
  {
   "cell_type": "markdown",
   "id": "266b122f",
   "metadata": {},
   "source": [
    "### Model is working well and predicting correct mood happy and sad with provided images "
   ]
  },
  {
   "cell_type": "code",
   "execution_count": null,
   "id": "22973d8d",
   "metadata": {},
   "outputs": [],
   "source": []
  }
 ],
 "metadata": {
  "kernelspec": {
   "display_name": "Python 3 (ipykernel)",
   "language": "python",
   "name": "python3"
  },
  "language_info": {
   "codemirror_mode": {
    "name": "ipython",
    "version": 3
   },
   "file_extension": ".py",
   "mimetype": "text/x-python",
   "name": "python",
   "nbconvert_exporter": "python",
   "pygments_lexer": "ipython3",
   "version": "3.11.5"
  }
 },
 "nbformat": 4,
 "nbformat_minor": 5
}
