{
 "cells": [
  {
   "cell_type": "code",
   "execution_count": 1,
   "id": "0ff4a39c",
   "metadata": {},
   "outputs": [
    {
     "name": "stdout",
     "output_type": "stream",
     "text": [
      "WARNING:tensorflow:From C:\\Users\\SAMEER\\AppData\\Roaming\\Python\\Python311\\site-packages\\keras\\src\\losses.py:2976: The name tf.losses.sparse_softmax_cross_entropy is deprecated. Please use tf.compat.v1.losses.sparse_softmax_cross_entropy instead.\n",
      "\n",
      "2.15.0\n"
     ]
    }
   ],
   "source": [
    "# Importing the libraries\n",
    "import numpy as np\n",
    "import pandas as pd\n",
    "import tensorflow as tf\n",
    "\n",
    "# Check TensorFlow version\n",
    "print(tf.__version__)"
   ]
  },
  {
   "cell_type": "code",
   "execution_count": 2,
   "id": "9639f5af",
   "metadata": {},
   "outputs": [],
   "source": [
    "# Importing the dataset\n",
    "dataset = pd.read_csv(\"Churn_Modelling.csv\")"
   ]
  },
  {
   "cell_type": "code",
   "execution_count": 3,
   "id": "8dc0445a",
   "metadata": {},
   "outputs": [
    {
     "data": {
      "text/html": [
       "<div>\n",
       "<style scoped>\n",
       "    .dataframe tbody tr th:only-of-type {\n",
       "        vertical-align: middle;\n",
       "    }\n",
       "\n",
       "    .dataframe tbody tr th {\n",
       "        vertical-align: top;\n",
       "    }\n",
       "\n",
       "    .dataframe thead th {\n",
       "        text-align: right;\n",
       "    }\n",
       "</style>\n",
       "<table border=\"1\" class=\"dataframe\">\n",
       "  <thead>\n",
       "    <tr style=\"text-align: right;\">\n",
       "      <th></th>\n",
       "      <th>RowNumber</th>\n",
       "      <th>CustomerId</th>\n",
       "      <th>Surname</th>\n",
       "      <th>CreditScore</th>\n",
       "      <th>Geography</th>\n",
       "      <th>Gender</th>\n",
       "      <th>Age</th>\n",
       "      <th>Tenure</th>\n",
       "      <th>Balance</th>\n",
       "      <th>NumOfProducts</th>\n",
       "      <th>HasCrCard</th>\n",
       "      <th>IsActiveMember</th>\n",
       "      <th>EstimatedSalary</th>\n",
       "      <th>Exited</th>\n",
       "    </tr>\n",
       "  </thead>\n",
       "  <tbody>\n",
       "    <tr>\n",
       "      <th>0</th>\n",
       "      <td>1</td>\n",
       "      <td>15634602</td>\n",
       "      <td>Hargrave</td>\n",
       "      <td>619</td>\n",
       "      <td>France</td>\n",
       "      <td>Female</td>\n",
       "      <td>42</td>\n",
       "      <td>2</td>\n",
       "      <td>0.00</td>\n",
       "      <td>1</td>\n",
       "      <td>1</td>\n",
       "      <td>1</td>\n",
       "      <td>101348.88</td>\n",
       "      <td>1</td>\n",
       "    </tr>\n",
       "    <tr>\n",
       "      <th>1</th>\n",
       "      <td>2</td>\n",
       "      <td>15647311</td>\n",
       "      <td>Hill</td>\n",
       "      <td>608</td>\n",
       "      <td>Spain</td>\n",
       "      <td>Female</td>\n",
       "      <td>41</td>\n",
       "      <td>1</td>\n",
       "      <td>83807.86</td>\n",
       "      <td>1</td>\n",
       "      <td>0</td>\n",
       "      <td>1</td>\n",
       "      <td>112542.58</td>\n",
       "      <td>0</td>\n",
       "    </tr>\n",
       "    <tr>\n",
       "      <th>2</th>\n",
       "      <td>3</td>\n",
       "      <td>15619304</td>\n",
       "      <td>Onio</td>\n",
       "      <td>502</td>\n",
       "      <td>France</td>\n",
       "      <td>Female</td>\n",
       "      <td>42</td>\n",
       "      <td>8</td>\n",
       "      <td>159660.80</td>\n",
       "      <td>3</td>\n",
       "      <td>1</td>\n",
       "      <td>0</td>\n",
       "      <td>113931.57</td>\n",
       "      <td>1</td>\n",
       "    </tr>\n",
       "    <tr>\n",
       "      <th>3</th>\n",
       "      <td>4</td>\n",
       "      <td>15701354</td>\n",
       "      <td>Boni</td>\n",
       "      <td>699</td>\n",
       "      <td>France</td>\n",
       "      <td>Female</td>\n",
       "      <td>39</td>\n",
       "      <td>1</td>\n",
       "      <td>0.00</td>\n",
       "      <td>2</td>\n",
       "      <td>0</td>\n",
       "      <td>0</td>\n",
       "      <td>93826.63</td>\n",
       "      <td>0</td>\n",
       "    </tr>\n",
       "    <tr>\n",
       "      <th>4</th>\n",
       "      <td>5</td>\n",
       "      <td>15737888</td>\n",
       "      <td>Mitchell</td>\n",
       "      <td>850</td>\n",
       "      <td>Spain</td>\n",
       "      <td>Female</td>\n",
       "      <td>43</td>\n",
       "      <td>2</td>\n",
       "      <td>125510.82</td>\n",
       "      <td>1</td>\n",
       "      <td>1</td>\n",
       "      <td>1</td>\n",
       "      <td>79084.10</td>\n",
       "      <td>0</td>\n",
       "    </tr>\n",
       "  </tbody>\n",
       "</table>\n",
       "</div>"
      ],
      "text/plain": [
       "   RowNumber  CustomerId   Surname  CreditScore Geography  Gender  Age  \\\n",
       "0          1    15634602  Hargrave          619    France  Female   42   \n",
       "1          2    15647311      Hill          608     Spain  Female   41   \n",
       "2          3    15619304      Onio          502    France  Female   42   \n",
       "3          4    15701354      Boni          699    France  Female   39   \n",
       "4          5    15737888  Mitchell          850     Spain  Female   43   \n",
       "\n",
       "   Tenure    Balance  NumOfProducts  HasCrCard  IsActiveMember  \\\n",
       "0       2       0.00              1          1               1   \n",
       "1       1   83807.86              1          0               1   \n",
       "2       8  159660.80              3          1               0   \n",
       "3       1       0.00              2          0               0   \n",
       "4       2  125510.82              1          1               1   \n",
       "\n",
       "   EstimatedSalary  Exited  \n",
       "0        101348.88       1  \n",
       "1        112542.58       0  \n",
       "2        113931.57       1  \n",
       "3         93826.63       0  \n",
       "4         79084.10       0  "
      ]
     },
     "execution_count": 3,
     "metadata": {},
     "output_type": "execute_result"
    }
   ],
   "source": [
    "dataset.head()"
   ]
  },
  {
   "cell_type": "code",
   "execution_count": 4,
   "id": "ba4cb57b",
   "metadata": {},
   "outputs": [
    {
     "data": {
      "text/plain": [
       "(10000, 14)"
      ]
     },
     "execution_count": 4,
     "metadata": {},
     "output_type": "execute_result"
    }
   ],
   "source": [
    "dataset.shape"
   ]
  },
  {
   "cell_type": "code",
   "execution_count": 5,
   "id": "96ea684a",
   "metadata": {},
   "outputs": [],
   "source": [
    "X = dataset.iloc[:, 3:-1].values\n",
    "y = dataset.iloc[:, -1].values"
   ]
  },
  {
   "cell_type": "code",
   "execution_count": 6,
   "id": "9ca72e0e",
   "metadata": {},
   "outputs": [
    {
     "name": "stdout",
     "output_type": "stream",
     "text": [
      "[[619 'France' 'Female' ... 1 1 101348.88]\n",
      " [608 'Spain' 'Female' ... 0 1 112542.58]\n",
      " [502 'France' 'Female' ... 1 0 113931.57]\n",
      " ...\n",
      " [709 'France' 'Female' ... 0 1 42085.58]\n",
      " [772 'Germany' 'Male' ... 1 0 92888.52]\n",
      " [792 'France' 'Female' ... 1 0 38190.78]]\n"
     ]
    }
   ],
   "source": [
    "print(X)"
   ]
  },
  {
   "cell_type": "code",
   "execution_count": 7,
   "id": "e5f094a0",
   "metadata": {},
   "outputs": [
    {
     "data": {
      "text/plain": [
       "array([[619, 'France', 'Female', ..., 1, 1, 101348.88],\n",
       "       [608, 'Spain', 'Female', ..., 0, 1, 112542.58],\n",
       "       [502, 'France', 'Female', ..., 1, 0, 113931.57],\n",
       "       ...,\n",
       "       [709, 'France', 'Female', ..., 0, 1, 42085.58],\n",
       "       [772, 'Germany', 'Male', ..., 1, 0, 92888.52],\n",
       "       [792, 'France', 'Female', ..., 1, 0, 38190.78]], dtype=object)"
      ]
     },
     "execution_count": 7,
     "metadata": {},
     "output_type": "execute_result"
    }
   ],
   "source": [
    "X"
   ]
  },
  {
   "cell_type": "code",
   "execution_count": 8,
   "id": "f1b940e1",
   "metadata": {},
   "outputs": [
    {
     "data": {
      "text/plain": [
       "(10000, 10)"
      ]
     },
     "execution_count": 8,
     "metadata": {},
     "output_type": "execute_result"
    }
   ],
   "source": [
    "X.shape"
   ]
  },
  {
   "cell_type": "code",
   "execution_count": 9,
   "id": "de5954ce",
   "metadata": {},
   "outputs": [],
   "source": [
    "# # Display the features and labels\n",
    "# print(X[:5])\n",
    "# print(y[:5])"
   ]
  },
  {
   "cell_type": "markdown",
   "id": "ae3f345d",
   "metadata": {},
   "source": [
    "## Data Preprocessing"
   ]
  },
  {
   "cell_type": "code",
   "execution_count": 10,
   "id": "bbc6bc0f",
   "metadata": {},
   "outputs": [],
   "source": [
    "# Encoding categorical data\n",
    "# Label Encoding the \"Gender\" column\n",
    "from sklearn.preprocessing import LabelEncoder\n",
    "le = LabelEncoder()\n",
    "X[:, 2] = le.fit_transform(X[:, 2])"
   ]
  },
  {
   "cell_type": "code",
   "execution_count": 11,
   "id": "494d3409",
   "metadata": {},
   "outputs": [],
   "source": [
    "# One Hot Encoding the \"Geography\" column\n",
    "from sklearn.compose import ColumnTransformer\n",
    "from sklearn.preprocessing import OneHotEncoder\n",
    "ct = ColumnTransformer(transformers=[('encoder', OneHotEncoder(), [1])], remainder='passthrough')\n",
    "X = np.array(ct.fit_transform(X))"
   ]
  },
  {
   "cell_type": "code",
   "execution_count": 12,
   "id": "8d2b6cc9",
   "metadata": {},
   "outputs": [],
   "source": [
    "# Feature Scaling\n",
    "from sklearn.preprocessing import StandardScaler\n",
    "sc = StandardScaler()\n",
    "X = sc.fit_transform(X)"
   ]
  },
  {
   "cell_type": "code",
   "execution_count": 13,
   "id": "cdb35744",
   "metadata": {},
   "outputs": [
    {
     "data": {
      "text/plain": [
       "(10000, 12)"
      ]
     },
     "execution_count": 13,
     "metadata": {},
     "output_type": "execute_result"
    }
   ],
   "source": [
    "X.shape"
   ]
  },
  {
   "cell_type": "markdown",
   "id": "f3eaa7ed",
   "metadata": {},
   "source": [
    "## Model Training"
   ]
  },
  {
   "cell_type": "code",
   "execution_count": 14,
   "id": "58f72c1f",
   "metadata": {},
   "outputs": [],
   "source": [
    "# Splitting the dataset into the Training set and Test set\n",
    "from sklearn.model_selection import train_test_split\n",
    "X_train, X_test, y_train, y_test = train_test_split(X, y, test_size=0.2, random_state=0)"
   ]
  },
  {
   "cell_type": "code",
   "execution_count": 15,
   "id": "cdc63a94",
   "metadata": {},
   "outputs": [
    {
     "name": "stdout",
     "output_type": "stream",
     "text": [
      "WARNING:tensorflow:From C:\\Users\\SAMEER\\AppData\\Roaming\\Python\\Python311\\site-packages\\keras\\src\\backend.py:873: The name tf.get_default_graph is deprecated. Please use tf.compat.v1.get_default_graph instead.\n",
      "\n"
     ]
    }
   ],
   "source": [
    "# Building the ANN\n",
    "\n",
    "# Initializing the ANN\n",
    "ann = tf.keras.models.Sequential()"
   ]
  },
  {
   "cell_type": "code",
   "execution_count": 16,
   "id": "acd70339",
   "metadata": {},
   "outputs": [],
   "source": [
    "# Adding layers\n",
    "ann.add(tf.keras.layers.Dense(units=6, activation='relu', input_shape=(X_train.shape[1],)))\n",
    "ann.add(tf.keras.layers.Dense(units=6, activation='relu'))\n",
    "ann.add(tf.keras.layers.Dense(units=4, activation='relu'))\n",
    "ann.add(tf.keras.layers.Dense(units=5, activation='relu'))"
   ]
  },
  {
   "cell_type": "code",
   "execution_count": 17,
   "id": "96ae1994",
   "metadata": {},
   "outputs": [],
   "source": [
    "# Adding the output layer\n",
    "ann.add(tf.keras.layers.Dense(units=1, activation='sigmoid'))"
   ]
  },
  {
   "cell_type": "code",
   "execution_count": 18,
   "id": "44ef6a90",
   "metadata": {},
   "outputs": [
    {
     "name": "stdout",
     "output_type": "stream",
     "text": [
      "Model: \"sequential\"\n",
      "_________________________________________________________________\n",
      " Layer (type)                Output Shape              Param #   \n",
      "=================================================================\n",
      " dense (Dense)               (None, 6)                 78        \n",
      "                                                                 \n",
      " dense_1 (Dense)             (None, 6)                 42        \n",
      "                                                                 \n",
      " dense_2 (Dense)             (None, 4)                 28        \n",
      "                                                                 \n",
      " dense_3 (Dense)             (None, 5)                 25        \n",
      "                                                                 \n",
      " dense_4 (Dense)             (None, 1)                 6         \n",
      "                                                                 \n",
      "=================================================================\n",
      "Total params: 179 (716.00 Byte)\n",
      "Trainable params: 179 (716.00 Byte)\n",
      "Non-trainable params: 0 (0.00 Byte)\n",
      "_________________________________________________________________\n"
     ]
    }
   ],
   "source": [
    "# Summary\n",
    "ann.summary()"
   ]
  },
  {
   "cell_type": "code",
   "execution_count": 19,
   "id": "15f64ebe",
   "metadata": {},
   "outputs": [
    {
     "name": "stdout",
     "output_type": "stream",
     "text": [
      "WARNING:tensorflow:From C:\\Users\\SAMEER\\AppData\\Roaming\\Python\\Python311\\site-packages\\keras\\src\\optimizers\\__init__.py:309: The name tf.train.Optimizer is deprecated. Please use tf.compat.v1.train.Optimizer instead.\n",
      "\n"
     ]
    }
   ],
   "source": [
    "# Training the ANN\n",
    "\n",
    "# Compiling the ANN\n",
    "ann.compile(optimizer='adam', loss='binary_crossentropy', metrics=['accuracy'])"
   ]
  },
  {
   "cell_type": "code",
   "execution_count": 20,
   "id": "bf4d9c57",
   "metadata": {},
   "outputs": [
    {
     "name": "stdout",
     "output_type": "stream",
     "text": [
      "Epoch 1/20\n",
      "WARNING:tensorflow:From C:\\Users\\SAMEER\\AppData\\Roaming\\Python\\Python311\\site-packages\\keras\\src\\utils\\tf_utils.py:492: The name tf.ragged.RaggedTensorValue is deprecated. Please use tf.compat.v1.ragged.RaggedTensorValue instead.\n",
      "\n",
      "WARNING:tensorflow:From C:\\Users\\SAMEER\\AppData\\Roaming\\Python\\Python311\\site-packages\\keras\\src\\engine\\base_layer_utils.py:384: The name tf.executing_eagerly_outside_functions is deprecated. Please use tf.compat.v1.executing_eagerly_outside_functions instead.\n",
      "\n",
      "267/267 [==============================] - 2s 1ms/step - loss: 0.4951 - accuracy: 0.7960\n",
      "Epoch 2/20\n",
      "267/267 [==============================] - 0s 1ms/step - loss: 0.4581 - accuracy: 0.7960\n",
      "Epoch 3/20\n",
      "267/267 [==============================] - 0s 2ms/step - loss: 0.4448 - accuracy: 0.7960\n",
      "Epoch 4/20\n",
      "267/267 [==============================] - 0s 2ms/step - loss: 0.4374 - accuracy: 0.7960\n",
      "Epoch 5/20\n",
      "267/267 [==============================] - 0s 2ms/step - loss: 0.4336 - accuracy: 0.7960\n",
      "Epoch 6/20\n",
      "267/267 [==============================] - 0s 2ms/step - loss: 0.4313 - accuracy: 0.7960\n",
      "Epoch 7/20\n",
      "267/267 [==============================] - 0s 1ms/step - loss: 0.4296 - accuracy: 0.7960\n",
      "Epoch 8/20\n",
      "267/267 [==============================] - 0s 1ms/step - loss: 0.4278 - accuracy: 0.7960\n",
      "Epoch 9/20\n",
      "267/267 [==============================] - 0s 1ms/step - loss: 0.4261 - accuracy: 0.7990\n",
      "Epoch 10/20\n",
      "267/267 [==============================] - 0s 1ms/step - loss: 0.4242 - accuracy: 0.8031\n",
      "Epoch 11/20\n",
      "267/267 [==============================] - 0s 1ms/step - loss: 0.4220 - accuracy: 0.8091\n",
      "Epoch 12/20\n",
      "267/267 [==============================] - 0s 1ms/step - loss: 0.4187 - accuracy: 0.8173\n",
      "Epoch 13/20\n",
      "267/267 [==============================] - 0s 1ms/step - loss: 0.4152 - accuracy: 0.8214\n",
      "Epoch 14/20\n",
      "267/267 [==============================] - 0s 1ms/step - loss: 0.4126 - accuracy: 0.8245\n",
      "Epoch 15/20\n",
      "267/267 [==============================] - 0s 1ms/step - loss: 0.4094 - accuracy: 0.8275\n",
      "Epoch 16/20\n",
      "267/267 [==============================] - 0s 1ms/step - loss: 0.4073 - accuracy: 0.8278\n",
      "Epoch 17/20\n",
      "267/267 [==============================] - 0s 1ms/step - loss: 0.4048 - accuracy: 0.8294\n",
      "Epoch 18/20\n",
      "267/267 [==============================] - 0s 1ms/step - loss: 0.4022 - accuracy: 0.8324\n",
      "Epoch 19/20\n",
      "267/267 [==============================] - 0s 1ms/step - loss: 0.4002 - accuracy: 0.8342\n",
      "Epoch 20/20\n",
      "267/267 [==============================] - 0s 1ms/step - loss: 0.3977 - accuracy: 0.8353\n"
     ]
    }
   ],
   "source": [
    "# Training the ANN on the Training set\n",
    "history = ann.fit(X_train, y_train, batch_size=30, epochs=20)"
   ]
  },
  {
   "cell_type": "markdown",
   "id": "945cc605",
   "metadata": {},
   "source": [
    "## Saving Model"
   ]
  },
  {
   "cell_type": "code",
   "execution_count": 21,
   "id": "f291a1ca",
   "metadata": {},
   "outputs": [
    {
     "name": "stdout",
     "output_type": "stream",
     "text": [
      "INFO:tensorflow:Assets written to: best_model.pkl\\assets\n"
     ]
    },
    {
     "name": "stderr",
     "output_type": "stream",
     "text": [
      "INFO:tensorflow:Assets written to: best_model.pkl\\assets\n"
     ]
    },
    {
     "data": {
      "text/plain": [
       "['scaler.pkl']"
      ]
     },
     "execution_count": 21,
     "metadata": {},
     "output_type": "execute_result"
    }
   ],
   "source": [
    "import joblib\n",
    "\n",
    "# # Load the saved model\n",
    "#model = tf.keras.models.load_model('best_model.h5')\n",
    "\n",
    "# Save the trained model\n",
    "ann.save('best_model.pkl')\n",
    "\n",
    "# Save the preprocessing objects\n",
    "joblib.dump(le, 'label_encoder.pkl')\n",
    "joblib.dump(ct, 'column_transformer.pkl')\n",
    "joblib.dump(sc, 'scaler.pkl')"
   ]
  },
  {
   "cell_type": "code",
   "execution_count": 22,
   "id": "8c3b1a9b",
   "metadata": {},
   "outputs": [
    {
     "name": "stdout",
     "output_type": "stream",
     "text": [
      "63/63 [==============================] - 0s 1ms/step\n"
     ]
    }
   ],
   "source": [
    "# Making the predictions and evaluating the model\n",
    "\n",
    "# Predicting the Test set results\n",
    "y_pred = ann.predict(X_test)\n",
    "y_pred_1 = (y_pred > 0.5).astype(int)"
   ]
  },
  {
   "cell_type": "code",
   "execution_count": 23,
   "id": "3ed751b8",
   "metadata": {},
   "outputs": [
    {
     "name": "stdout",
     "output_type": "stream",
     "text": [
      "[[0.15919134 0.        ]\n",
      " [0.28408614 1.        ]\n",
      " [0.18434317 0.        ]\n",
      " ...\n",
      " [0.21027316 0.        ]\n",
      " [0.17141569 0.        ]\n",
      " [0.17828225 0.        ]]\n"
     ]
    }
   ],
   "source": [
    "# Display predictions alongside actual results\n",
    "print(np.concatenate((y_pred.reshape(len(y_pred), 1), y_test.reshape(len(y_test), 1)), axis=1))"
   ]
  },
  {
   "cell_type": "code",
   "execution_count": 24,
   "id": "0f7e72a2",
   "metadata": {},
   "outputs": [
    {
     "name": "stdout",
     "output_type": "stream",
     "text": [
      "[[1557   38]\n",
      " [ 286  119]]\n"
     ]
    }
   ],
   "source": [
    "# Making the Confusion Matrix\n",
    "from sklearn.metrics import confusion_matrix, accuracy_score\n",
    "cm = confusion_matrix(y_test, y_pred_1)\n",
    "print(cm)"
   ]
  },
  {
   "cell_type": "code",
   "execution_count": 25,
   "id": "3a50b91b",
   "metadata": {},
   "outputs": [
    {
     "name": "stdout",
     "output_type": "stream",
     "text": [
      "Accuracy: 0.84\n"
     ]
    }
   ],
   "source": [
    "ac = accuracy_score(y_test, y_pred_1)\n",
    "print(f'Accuracy: {ac:.2f}')"
   ]
  },
  {
   "cell_type": "code",
   "execution_count": 26,
   "id": "8a29e94a",
   "metadata": {},
   "outputs": [
    {
     "data": {
      "image/png": "[encoded data removed]",
      "text/plain": [
       "<Figure size 640x480 with 1 Axes>"
      ]
     },
     "metadata": {},
     "output_type": "display_data"
    }
   ],
   "source": [
    "# Optional: Plotting the training loss\n",
    "import matplotlib.pyplot as plt\n",
    "plt.plot(history.history['loss'])\n",
    "plt.title('Model Loss')\n",
    "plt.xlabel('Epoch')\n",
    "plt.ylabel('Loss')\n",
    "plt.show()"
   ]
  },
  {
   "cell_type": "code",
   "execution_count": 27,
   "id": "39cc8e2e",
   "metadata": {},
   "outputs": [],
   "source": [
    "# # Optional: Plotting the training loss and validation loss\n",
    "# import matplotlib.pyplot as plt\n",
    "# plt.plot(history.history['loss'], label='Training Loss')\n",
    "# plt.plot(history.history['val_loss'], label='Validation Loss')\n",
    "# plt.title('Model Loss')\n",
    "# plt.xlabel('Epoch')\n",
    "# plt.ylabel('Loss')\n",
    "# plt.legend()\n",
    "# plt.show()"
   ]
  },
  {
   "cell_type": "code",
   "execution_count": 28,
   "id": "12854a10",
   "metadata": {},
   "outputs": [],
   "source": [
    "# plt.plot(history.history['accuracy'], label='Training Accuracy')\n",
    "# plt.plot(history.history['val_accuracy'], label='Validation Accuracy')\n",
    "# plt.title('Model Accuracy')\n",
    "# plt.xlabel('Epoch')\n",
    "# plt.ylabel('Accuracy')\n",
    "# plt.legend()\n",
    "# plt.show()"
   ]
  },
  {
   "cell_type": "code",
   "execution_count": 29,
   "id": "d6fea1ce",
   "metadata": {},
   "outputs": [
    {
     "name": "stderr",
     "output_type": "stream",
     "text": [
      "C:\\Users\\SAMEER\\AppData\\Roaming\\Python\\Python311\\site-packages\\keras\\src\\engine\\training.py:3103: UserWarning: You are saving your model as an HDF5 file via `model.save()`. This file format is considered legacy. We recommend using instead the native Keras format, e.g. `model.save('my_model.keras')`.\n",
      "  saving_api.save_model(\n"
     ]
    }
   ],
   "source": [
    "ann.save('churn_model.h5')"
   ]
  },
  {
   "cell_type": "markdown",
   "id": "1ed0ad9b",
   "metadata": {},
   "source": [
    "## Predicting with values "
   ]
  },
  {
   "cell_type": "code",
   "execution_count": 30,
   "id": "e529bd1b",
   "metadata": {},
   "outputs": [
    {
     "name": "stderr",
     "output_type": "stream",
     "text": [
      "C:\\Users\\SAMEER\\AppData\\Roaming\\Python\\Python311\\site-packages\\sklearn\\base.py:486: UserWarning: X has feature names, but StandardScaler was fitted without feature names\n",
      "  warnings.warn(\n"
     ]
    },
    {
     "name": "stdout",
     "output_type": "stream",
     "text": [
      "1/1 [==============================] - 0s 114ms/step\n",
      "cust Will not churn\n",
      "cust Will not churn\n"
     ]
    }
   ],
   "source": [
    "# Load the saved model\n",
    "loaded_model = tf.keras.models.load_model('churn_model.h5')\n",
    "\n",
    "# Assume you have new data in a Pandas dataframe called `new_data`\n",
    "new_data = pd.DataFrame({\n",
    "   'CreditScore': [600, 700], \n",
    "    'Geography': ['France', 'Spain'], \n",
    "    'Gender': ['Male', 'Female'], \n",
    "    'Age': [40, 50], \n",
    "    'Tenure': [5, 10], \n",
    "    'Balance': [60000, 70000], \n",
    "    'NumOfProducts': [2, 1], \n",
    "    'HasCrCard': [1, 0], \n",
    "    'IsActiveMember': [1, 1], \n",
    "    'EstimatedSalary': [50000, 60000]})\n",
    "\n",
    "# Preprocess the new data (same steps as before)\n",
    "new_data = pd.get_dummies(new_data, columns=['Geography',\"Gender\"])\n",
    "new_data = sc.transform(new_data)\n",
    "\n",
    "# Make predictions on the new data\n",
    "new_predictions = loaded_model.predict(new_data)\n",
    "\n",
    "# Convert predictions to 0 or 1 (since it's a binary classification problem)\n",
    "# new_predictions = (new_predictions > 0.5).astype(int)\n",
    "\n",
    "# Print the results\n",
    "for pred in new_predictions:\n",
    "    if pred == 0:\n",
    "        print(\"cust Will not churn\")\n",
    "    else:\n",
    "        print(\"cust Will churn\")"
   ]
  },
  {
   "cell_type": "code",
   "execution_count": 31,
   "id": "99892c98",
   "metadata": {},
   "outputs": [
    {
     "name": "stdout",
     "output_type": "stream",
     "text": [
      "WARNING:tensorflow:From C:\\Users\\SAMEER\\AppData\\Roaming\\Python\\Python311\\site-packages\\keras\\src\\saving\\legacy\\saved_model\\load.py:107: The name tf.gfile.Exists is deprecated. Please use tf.io.gfile.exists instead.\n",
      "\n"
     ]
    },
    {
     "name": "stderr",
     "output_type": "stream",
     "text": [
      "WARNING:tensorflow:From C:\\Users\\SAMEER\\AppData\\Roaming\\Python\\Python311\\site-packages\\keras\\src\\saving\\legacy\\saved_model\\load.py:107: The name tf.gfile.Exists is deprecated. Please use tf.io.gfile.exists instead.\n",
      "\n"
     ]
    },
    {
     "name": "stdout",
     "output_type": "stream",
     "text": [
      "1/1 [==============================] - 0s 103ms/step\n",
      "[[0.]\n",
      " [0.]]\n",
      "Will not churn\n",
      "Will not churn\n"
     ]
    },
    {
     "name": "stderr",
     "output_type": "stream",
     "text": [
      "C:\\Users\\SAMEER\\AppData\\Roaming\\Python\\Python311\\site-packages\\sklearn\\base.py:486: UserWarning: X has feature names, but StandardScaler was fitted without feature names\n",
      "  warnings.warn(\n"
     ]
    }
   ],
   "source": [
    "import numpy as np\n",
    "import pandas as pd\n",
    "import tensorflow as tf\n",
    "import joblib\n",
    "from sklearn.preprocessing import LabelEncoder, OneHotEncoder, StandardScaler\n",
    "from sklearn.compose import ColumnTransformer\n",
    "\n",
    "# Load the saved model\n",
    "model = tf.keras.models.load_model('best_model.pkl')\n",
    "\n",
    "# Load the preprocessing objects\n",
    "le = joblib.load('label_encoder.pkl')\n",
    "ct = joblib.load('column_transformer.pkl')\n",
    "sc = joblib.load('scaler.pkl')\n",
    "\n",
    "# Assuming the new data is in a DataFrame format\n",
    "new_data = pd.DataFrame({\n",
    "    'CreditScore': [600, 700], \n",
    "    'Geography': ['France', 'Spain'], \n",
    "    'Gender': ['Male', 'Female'], \n",
    "    'Age': [40, 50], \n",
    "    'Tenure': [5, 10], \n",
    "    'Balance': [60000, 70000], \n",
    "    'NumOfProducts': [2, 1], \n",
    "    'HasCrCard': [1, 0], \n",
    "    'IsActiveMember': [1, 1], \n",
    "    'EstimatedSalary': [50000, 60000]\n",
    "})\n",
    "\n",
    "# Encoding categorical data using the loaded LabelEncoder and ColumnTransformer\n",
    "\n",
    "# Preprocess the new data (same steps as before)\n",
    "new_data = pd.get_dummies(new_data, columns=['Geography',\"Gender\"])\n",
    "new_data = sc.transform(new_data)\n",
    "\n",
    "# Feature Scaling using the loaded StandardScaler\n",
    "new_data = sc.transform(new_data)\n",
    "\n",
    "# Predicting the new data\n",
    "predictions = model.predict(new_data)\n",
    "#predictions_binary = (predictions > 0.5).astype(int)\n",
    "\n",
    "# Display predictions\n",
    "print(predictions)\n",
    "#print(predictions_binary)\n",
    "\n",
    "for pred in predictions:\n",
    "    if pred == 0:\n",
    "        print(\"Will not churn\")\n",
    "    else:\n",
    "        print(\"Will churn\")"
   ]
  },
  {
   "cell_type": "code",
   "execution_count": 32,
   "id": "3c1af0b0",
   "metadata": {},
   "outputs": [
    {
     "name": "stdout",
     "output_type": "stream",
     "text": [
      "Customer 1 is not likely to churn.\n",
      "Customer 2 is not likely to churn.\n"
     ]
    },
    {
     "name": "stderr",
     "output_type": "stream",
     "text": [
      "C:\\Users\\SAMEER\\AppData\\Roaming\\Python\\Python311\\site-packages\\sklearn\\base.py:486: UserWarning: X has feature names, but StandardScaler was fitted without feature names\n",
      "  warnings.warn(\n"
     ]
    }
   ],
   "source": [
    "# Load the saved model\n",
    "loaded_model = tf.keras.models.load_model('churn_model.h5')\n",
    "\n",
    "# Assume you have new data in a Pandas dataframe called `new_data`\n",
    "new_data = pd.DataFrame({\n",
    "   'CreditScore': [600, 0], \n",
    "    'Geography': ['France', 'Spain'], \n",
    "    'Gender': ['Male', 'Female'], \n",
    "    'Age': [40, 50], \n",
    "    'Tenure': [5, 10], \n",
    "    'Balance': [60000, 700], \n",
    "    'NumOfProducts': [2, 1], \n",
    "    'HasCrCard': [1, 0], \n",
    "    'IsActiveMember': [1, 1], \n",
    "    'EstimatedSalary': [50000, 600]})\n",
    "\n",
    "# Preprocess the new data (same steps as before)\n",
    "new_data = pd.get_dummies(new_data, columns=['Geography',\"Gender\"])\n",
    "new_data = sc.transform(new_data)\n",
    "\n",
    "# Make predictions on the new data\n",
    "# new_predictions = loaded_model.predict(new_data)\n",
    "\n",
    "# Convert predictions to 0 or 1 (since it's a binary classification problem)\n",
    "# new_predictions = (new_predictions > 0.5).astype(int)\n",
    "\n",
    "# Print the results\n",
    "for i, pred in enumerate(new_predictions):\n",
    "    if pred == 0:\n",
    "        print(f\"Customer {i+1} is not likely to churn.\")\n",
    "    else:\n",
    "        print(f\"Customer {i+1} is likely to churn.\")"
   ]
  },
  {
   "cell_type": "markdown",
   "id": "9bdd7def",
   "metadata": {},
   "source": [
    "### Model is working and predicting well "
   ]
  },
  {
   "cell_type": "code",
   "execution_count": null,
   "id": "f7db2478",
   "metadata": {},
   "outputs": [],
   "source": []
  }
 ],
 "metadata": {
  "kernelspec": {
   "display_name": "Python 3 (ipykernel)",
   "language": "python",
   "name": "python3"
  },
  "language_info": {
   "codemirror_mode": {
    "name": "ipython",
    "version": 3
   },
   "file_extension": ".py",
   "mimetype": "text/x-python",
   "name": "python",
   "nbconvert_exporter": "python",
   "pygments_lexer": "ipython3",
   "version": "3.11.5"
  }
 },
 "nbformat": 4,
 "nbformat_minor": 5
}
